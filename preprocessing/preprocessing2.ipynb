{
 "cells": [
  {
   "cell_type": "code",
   "execution_count": 1,
   "metadata": {},
   "outputs": [],
   "source": [
    "import pandas as pd\n",
    "import numpy as np\n",
    "from tmdbv3api import TMDb\n",
    "from tmdbv3api import Movie\n",
    "from dotenv import load_dotenv\n",
    "import os\n",
    "import requests\n",
    "from datetime import datetime"
   ]
  },
  {
   "cell_type": "code",
   "execution_count": 2,
   "metadata": {},
   "outputs": [
    {
     "data": {
      "text/plain": [
       "True"
      ]
     },
     "execution_count": 2,
     "metadata": {},
     "output_type": "execute_result"
    }
   ],
   "source": [
    "load_dotenv()"
   ]
  },
  {
   "cell_type": "code",
   "execution_count": 3,
   "metadata": {},
   "outputs": [],
   "source": [
    "tmdb = TMDb()\n",
    "tmdb.api_key = os.getenv('API_KEY')\n",
    "tmdb.language = 'en'\n",
    "tmdb.debug = True"
   ]
  },
  {
   "cell_type": "code",
   "execution_count": 4,
   "metadata": {},
   "outputs": [],
   "source": [
    "movie = Movie()"
   ]
  },
  {
   "cell_type": "code",
   "execution_count": 5,
   "metadata": {},
   "outputs": [],
   "source": [
    "data = pd.read_html('https://en.wikipedia.org/wiki/List_of_American_films_of_2019')"
   ]
  },
  {
   "cell_type": "code",
   "execution_count": 9,
   "metadata": {},
   "outputs": [],
   "source": [
    "# Extracting the names of the movies from the HTML\n",
    "names = []"
   ]
  },
  {
   "cell_type": "code",
   "execution_count": 10,
   "metadata": {},
   "outputs": [],
   "source": [
    "for i in range(2, 6):\n",
    "    for i in data[i]['Title']:\n",
    "        names.append(i)\n"
   ]
  },
  {
   "cell_type": "code",
   "execution_count": 12,
   "metadata": {},
   "outputs": [],
   "source": [
    "movie_id = []\n",
    "movie_not_found = []"
   ]
  },
  {
   "cell_type": "code",
   "execution_count": 13,
   "metadata": {},
   "outputs": [
    {
     "name": "stdout",
     "output_type": "stream",
     "text": [
      "Removed Replicas from the names list\n",
      "Does not exist\n",
      "Does not exist\n",
      "Does not exist\n",
      "Removed Piercing from the names list\n",
      "Removed Dragged Across Concrete from the names list\n",
      "Removed Unicorn Store from the names list\n",
      "Removed Under the Silver Lake from the names list\n",
      "Does not exist\n",
      "Does not exist\n",
      "Does not exist\n",
      "Removed Family from the names list\n",
      "Does not exist\n",
      "Removed Buffaloed from the names list\n",
      "Removed The Current War from the names list\n"
     ]
    }
   ],
   "source": [
    "# Gettting the tmdb id of the movies from their names\n",
    "date_format = \"%Y-%m-%d\"\n",
    "start_date = datetime.strptime(\"2019-01-01\", date_format)\n",
    "end_date = datetime.strptime(\"2019-12-31\", date_format)\n",
    "for name in names:\n",
    "    search = movie.search(name)\n",
    "    for res in search:\n",
    "        if(res['release_date']):\n",
    "            if (datetime.strptime(res['release_date'], date_format) >= start_date and datetime.strptime(res['release_date'], date_format) <= end_date):\n",
    "                movie_id.append((name, res['id']))\n",
    "                break      \n",
    "        else :\n",
    "            print(\"Does not exist\")\n",
    "    else :\n",
    "        print(\"Removed \" + name + \" from the names list\")\n",
    "        movie_not_found.append(name)\n",
    "        # names.remove('name')"
   ]
  },
  {
   "cell_type": "code",
   "execution_count": 17,
   "metadata": {},
   "outputs": [],
   "source": [
    "for i in movie_not_found:\n",
    "    names.remove(i)"
   ]
  },
  {
   "cell_type": "code",
   "execution_count": 20,
   "metadata": {},
   "outputs": [
    {
     "data": {
      "text/plain": [
       "238"
      ]
     },
     "execution_count": 20,
     "metadata": {},
     "output_type": "execute_result"
    }
   ],
   "source": [
    "len(names)"
   ]
  },
  {
   "cell_type": "code",
   "execution_count": 22,
   "metadata": {},
   "outputs": [],
   "source": [
    "details = []"
   ]
  },
  {
   "cell_type": "code",
   "execution_count": 23,
   "metadata": {},
   "outputs": [],
   "source": [
    "def get_genres(obj):\n",
    "    genres = []\n",
    "\n",
    "    # print(type(obj))\n",
    "    for i in obj:\n",
    "        # print(i['name'])\n",
    "        genres.append(i['name'])\n",
    "    return genres"
   ]
  },
  {
   "cell_type": "code",
   "execution_count": 24,
   "metadata": {},
   "outputs": [],
   "source": [
    "for i in movie_id:\n",
    "\n",
    "    url = f'https://api.themoviedb.org/3/movie/{i[1]}?api_key={os.getenv(\"API_KEY\")}'\n",
    "    response = requests.get(url)\n",
    "    data_json = response.json()\n",
    "    movie_details = {}\n",
    "    movie_details['name'] = data_json['title']\n",
    "    movie_details['id'] = i[1]\n",
    "    movie_details['overview'] = data_json['overview'] \n",
    "    movie_details['genres'] = get_genres(data_json['genres'])\n",
    "    details.append(movie_details)\n"
   ]
  },
  {
   "cell_type": "code",
   "execution_count": 26,
   "metadata": {},
   "outputs": [],
   "source": [
    "df = pd.DataFrame(details)"
   ]
  },
  {
   "cell_type": "code",
   "execution_count": 27,
   "metadata": {},
   "outputs": [
    {
     "data": {
      "text/html": [
       "<div>\n",
       "<style scoped>\n",
       "    .dataframe tbody tr th:only-of-type {\n",
       "        vertical-align: middle;\n",
       "    }\n",
       "\n",
       "    .dataframe tbody tr th {\n",
       "        vertical-align: top;\n",
       "    }\n",
       "\n",
       "    .dataframe thead th {\n",
       "        text-align: right;\n",
       "    }\n",
       "</style>\n",
       "<table border=\"1\" class=\"dataframe\">\n",
       "  <thead>\n",
       "    <tr style=\"text-align: right;\">\n",
       "      <th></th>\n",
       "      <th>name</th>\n",
       "      <th>id</th>\n",
       "      <th>overview</th>\n",
       "      <th>genres</th>\n",
       "    </tr>\n",
       "  </thead>\n",
       "  <tbody>\n",
       "    <tr>\n",
       "      <th>0</th>\n",
       "      <td>Escape Room</td>\n",
       "      <td>522681</td>\n",
       "      <td>Six strangers find themselves in circumstances...</td>\n",
       "      <td>[Horror, Thriller, Mystery]</td>\n",
       "    </tr>\n",
       "    <tr>\n",
       "      <th>1</th>\n",
       "      <td>Rust Creek</td>\n",
       "      <td>561362</td>\n",
       "      <td>When an overachieving college senior makes a w...</td>\n",
       "      <td>[Thriller, Drama, Action, Crime]</td>\n",
       "    </tr>\n",
       "    <tr>\n",
       "      <th>2</th>\n",
       "      <td>American Hangman</td>\n",
       "      <td>567738</td>\n",
       "      <td>An unidentified man posts a live feed on socia...</td>\n",
       "      <td>[Thriller]</td>\n",
       "    </tr>\n",
       "    <tr>\n",
       "      <th>3</th>\n",
       "      <td>A Dog's Way Home</td>\n",
       "      <td>508763</td>\n",
       "      <td>The adventure of Bella, a dog who embarks on a...</td>\n",
       "      <td>[Drama, Adventure, Family]</td>\n",
       "    </tr>\n",
       "    <tr>\n",
       "      <th>4</th>\n",
       "      <td>The Upside</td>\n",
       "      <td>440472</td>\n",
       "      <td>Phillip is a wealthy quadriplegic who needs a ...</td>\n",
       "      <td>[Comedy, Drama]</td>\n",
       "    </tr>\n",
       "  </tbody>\n",
       "</table>\n",
       "</div>"
      ],
      "text/plain": [
       "               name      id  \\\n",
       "0       Escape Room  522681   \n",
       "1        Rust Creek  561362   \n",
       "2  American Hangman  567738   \n",
       "3  A Dog's Way Home  508763   \n",
       "4        The Upside  440472   \n",
       "\n",
       "                                            overview  \\\n",
       "0  Six strangers find themselves in circumstances...   \n",
       "1  When an overachieving college senior makes a w...   \n",
       "2  An unidentified man posts a live feed on socia...   \n",
       "3  The adventure of Bella, a dog who embarks on a...   \n",
       "4  Phillip is a wealthy quadriplegic who needs a ...   \n",
       "\n",
       "                             genres  \n",
       "0       [Horror, Thriller, Mystery]  \n",
       "1  [Thriller, Drama, Action, Crime]  \n",
       "2                        [Thriller]  \n",
       "3        [Drama, Adventure, Family]  \n",
       "4                   [Comedy, Drama]  "
      ]
     },
     "execution_count": 27,
     "metadata": {},
     "output_type": "execute_result"
    }
   ],
   "source": [
    "df.head()"
   ]
  },
  {
   "cell_type": "code",
   "execution_count": 28,
   "metadata": {},
   "outputs": [],
   "source": [
    "def get_actors(id):\n",
    "    url  =  f'https://api.themoviedb.org/3/movie/{id}/credits?api_key={os.getenv(\"API_KEY\")}'\n",
    "    resonse = requests.get(url)\n",
    "    data_json = resonse.json()\n",
    "    obj = data_json['cast']\n",
    "    actors = []\n",
    "    length = 5 if len(obj) > 5 else len(obj)\n",
    "    for i in range(length):\n",
    "        actors.append(obj[i]['name'])\n",
    "    return actors"
   ]
  },
  {
   "cell_type": "code",
   "execution_count": 29,
   "metadata": {},
   "outputs": [],
   "source": [
    "def get_directors(id):\n",
    "    url  =  f'https://api.themoviedb.org/3/movie/{id}/credits?api_key={os.getenv(\"API_KEY\")}'\n",
    "    resonse = requests.get(url)\n",
    "    data_json = resonse.json()\n",
    "    obj = data_json['crew']\n",
    "    directors = []\n",
    "    for i in obj:\n",
    "        if(i['job'] == 'Director'):\n",
    "            directors.append(i['name'])\n",
    "            break\n",
    "    return directors"
   ]
  },
  {
   "cell_type": "code",
   "execution_count": 30,
   "metadata": {},
   "outputs": [],
   "source": [
    "df['actors'] = df['id'].apply(get_actors)"
   ]
  },
  {
   "cell_type": "code",
   "execution_count": 31,
   "metadata": {},
   "outputs": [
    {
     "data": {
      "text/html": [
       "<div>\n",
       "<style scoped>\n",
       "    .dataframe tbody tr th:only-of-type {\n",
       "        vertical-align: middle;\n",
       "    }\n",
       "\n",
       "    .dataframe tbody tr th {\n",
       "        vertical-align: top;\n",
       "    }\n",
       "\n",
       "    .dataframe thead th {\n",
       "        text-align: right;\n",
       "    }\n",
       "</style>\n",
       "<table border=\"1\" class=\"dataframe\">\n",
       "  <thead>\n",
       "    <tr style=\"text-align: right;\">\n",
       "      <th></th>\n",
       "      <th>name</th>\n",
       "      <th>id</th>\n",
       "      <th>overview</th>\n",
       "      <th>genres</th>\n",
       "      <th>actors</th>\n",
       "    </tr>\n",
       "  </thead>\n",
       "  <tbody>\n",
       "    <tr>\n",
       "      <th>0</th>\n",
       "      <td>Escape Room</td>\n",
       "      <td>522681</td>\n",
       "      <td>Six strangers find themselves in circumstances...</td>\n",
       "      <td>[Horror, Thriller, Mystery]</td>\n",
       "      <td>[Taylor Russell, Logan Miller, Jay Ellis, Debo...</td>\n",
       "    </tr>\n",
       "    <tr>\n",
       "      <th>1</th>\n",
       "      <td>Rust Creek</td>\n",
       "      <td>561362</td>\n",
       "      <td>When an overachieving college senior makes a w...</td>\n",
       "      <td>[Thriller, Drama, Action, Crime]</td>\n",
       "      <td>[Hermione Corfield, Jay Paulson, Sean O'Bryan,...</td>\n",
       "    </tr>\n",
       "    <tr>\n",
       "      <th>2</th>\n",
       "      <td>American Hangman</td>\n",
       "      <td>567738</td>\n",
       "      <td>An unidentified man posts a live feed on socia...</td>\n",
       "      <td>[Thriller]</td>\n",
       "      <td>[Donald Sutherland, Vincent Kartheiser, Oliver...</td>\n",
       "    </tr>\n",
       "    <tr>\n",
       "      <th>3</th>\n",
       "      <td>A Dog's Way Home</td>\n",
       "      <td>508763</td>\n",
       "      <td>The adventure of Bella, a dog who embarks on a...</td>\n",
       "      <td>[Drama, Adventure, Family]</td>\n",
       "      <td>[Ashley Judd, Jonah Hauer-King, Edward James O...</td>\n",
       "    </tr>\n",
       "    <tr>\n",
       "      <th>4</th>\n",
       "      <td>The Upside</td>\n",
       "      <td>440472</td>\n",
       "      <td>Phillip is a wealthy quadriplegic who needs a ...</td>\n",
       "      <td>[Comedy, Drama]</td>\n",
       "      <td>[Kevin Hart, Bryan Cranston, Nicole Kidman, Go...</td>\n",
       "    </tr>\n",
       "  </tbody>\n",
       "</table>\n",
       "</div>"
      ],
      "text/plain": [
       "               name      id  \\\n",
       "0       Escape Room  522681   \n",
       "1        Rust Creek  561362   \n",
       "2  American Hangman  567738   \n",
       "3  A Dog's Way Home  508763   \n",
       "4        The Upside  440472   \n",
       "\n",
       "                                            overview  \\\n",
       "0  Six strangers find themselves in circumstances...   \n",
       "1  When an overachieving college senior makes a w...   \n",
       "2  An unidentified man posts a live feed on socia...   \n",
       "3  The adventure of Bella, a dog who embarks on a...   \n",
       "4  Phillip is a wealthy quadriplegic who needs a ...   \n",
       "\n",
       "                             genres  \\\n",
       "0       [Horror, Thriller, Mystery]   \n",
       "1  [Thriller, Drama, Action, Crime]   \n",
       "2                        [Thriller]   \n",
       "3        [Drama, Adventure, Family]   \n",
       "4                   [Comedy, Drama]   \n",
       "\n",
       "                                              actors  \n",
       "0  [Taylor Russell, Logan Miller, Jay Ellis, Debo...  \n",
       "1  [Hermione Corfield, Jay Paulson, Sean O'Bryan,...  \n",
       "2  [Donald Sutherland, Vincent Kartheiser, Oliver...  \n",
       "3  [Ashley Judd, Jonah Hauer-King, Edward James O...  \n",
       "4  [Kevin Hart, Bryan Cranston, Nicole Kidman, Go...  "
      ]
     },
     "execution_count": 31,
     "metadata": {},
     "output_type": "execute_result"
    }
   ],
   "source": [
    "df.head()"
   ]
  },
  {
   "cell_type": "code",
   "execution_count": 32,
   "metadata": {},
   "outputs": [],
   "source": [
    "df['director'] = df['id'].apply(get_directors)"
   ]
  },
  {
   "cell_type": "code",
   "execution_count": 33,
   "metadata": {},
   "outputs": [
    {
     "data": {
      "text/html": [
       "<div>\n",
       "<style scoped>\n",
       "    .dataframe tbody tr th:only-of-type {\n",
       "        vertical-align: middle;\n",
       "    }\n",
       "\n",
       "    .dataframe tbody tr th {\n",
       "        vertical-align: top;\n",
       "    }\n",
       "\n",
       "    .dataframe thead th {\n",
       "        text-align: right;\n",
       "    }\n",
       "</style>\n",
       "<table border=\"1\" class=\"dataframe\">\n",
       "  <thead>\n",
       "    <tr style=\"text-align: right;\">\n",
       "      <th></th>\n",
       "      <th>name</th>\n",
       "      <th>id</th>\n",
       "      <th>overview</th>\n",
       "      <th>genres</th>\n",
       "      <th>actors</th>\n",
       "      <th>director</th>\n",
       "    </tr>\n",
       "  </thead>\n",
       "  <tbody>\n",
       "    <tr>\n",
       "      <th>0</th>\n",
       "      <td>Escape Room</td>\n",
       "      <td>522681</td>\n",
       "      <td>Six strangers find themselves in circumstances...</td>\n",
       "      <td>[Horror, Thriller, Mystery]</td>\n",
       "      <td>[Taylor Russell, Logan Miller, Jay Ellis, Debo...</td>\n",
       "      <td>[Adam Robitel]</td>\n",
       "    </tr>\n",
       "    <tr>\n",
       "      <th>1</th>\n",
       "      <td>Rust Creek</td>\n",
       "      <td>561362</td>\n",
       "      <td>When an overachieving college senior makes a w...</td>\n",
       "      <td>[Thriller, Drama, Action, Crime]</td>\n",
       "      <td>[Hermione Corfield, Jay Paulson, Sean O'Bryan,...</td>\n",
       "      <td>[Jen McGowan]</td>\n",
       "    </tr>\n",
       "    <tr>\n",
       "      <th>2</th>\n",
       "      <td>American Hangman</td>\n",
       "      <td>567738</td>\n",
       "      <td>An unidentified man posts a live feed on socia...</td>\n",
       "      <td>[Thriller]</td>\n",
       "      <td>[Donald Sutherland, Vincent Kartheiser, Oliver...</td>\n",
       "      <td>[Wilson Coneybeare]</td>\n",
       "    </tr>\n",
       "    <tr>\n",
       "      <th>3</th>\n",
       "      <td>A Dog's Way Home</td>\n",
       "      <td>508763</td>\n",
       "      <td>The adventure of Bella, a dog who embarks on a...</td>\n",
       "      <td>[Drama, Adventure, Family]</td>\n",
       "      <td>[Ashley Judd, Jonah Hauer-King, Edward James O...</td>\n",
       "      <td>[Charles Martin Smith]</td>\n",
       "    </tr>\n",
       "    <tr>\n",
       "      <th>4</th>\n",
       "      <td>The Upside</td>\n",
       "      <td>440472</td>\n",
       "      <td>Phillip is a wealthy quadriplegic who needs a ...</td>\n",
       "      <td>[Comedy, Drama]</td>\n",
       "      <td>[Kevin Hart, Bryan Cranston, Nicole Kidman, Go...</td>\n",
       "      <td>[Neil Burger]</td>\n",
       "    </tr>\n",
       "  </tbody>\n",
       "</table>\n",
       "</div>"
      ],
      "text/plain": [
       "               name      id  \\\n",
       "0       Escape Room  522681   \n",
       "1        Rust Creek  561362   \n",
       "2  American Hangman  567738   \n",
       "3  A Dog's Way Home  508763   \n",
       "4        The Upside  440472   \n",
       "\n",
       "                                            overview  \\\n",
       "0  Six strangers find themselves in circumstances...   \n",
       "1  When an overachieving college senior makes a w...   \n",
       "2  An unidentified man posts a live feed on socia...   \n",
       "3  The adventure of Bella, a dog who embarks on a...   \n",
       "4  Phillip is a wealthy quadriplegic who needs a ...   \n",
       "\n",
       "                             genres  \\\n",
       "0       [Horror, Thriller, Mystery]   \n",
       "1  [Thriller, Drama, Action, Crime]   \n",
       "2                        [Thriller]   \n",
       "3        [Drama, Adventure, Family]   \n",
       "4                   [Comedy, Drama]   \n",
       "\n",
       "                                              actors                director  \n",
       "0  [Taylor Russell, Logan Miller, Jay Ellis, Debo...          [Adam Robitel]  \n",
       "1  [Hermione Corfield, Jay Paulson, Sean O'Bryan,...           [Jen McGowan]  \n",
       "2  [Donald Sutherland, Vincent Kartheiser, Oliver...     [Wilson Coneybeare]  \n",
       "3  [Ashley Judd, Jonah Hauer-King, Edward James O...  [Charles Martin Smith]  \n",
       "4  [Kevin Hart, Bryan Cranston, Nicole Kidman, Go...           [Neil Burger]  "
      ]
     },
     "execution_count": 33,
     "metadata": {},
     "output_type": "execute_result"
    }
   ],
   "source": [
    "df.head()"
   ]
  },
  {
   "cell_type": "code",
   "execution_count": 34,
   "metadata": {},
   "outputs": [],
   "source": [
    "def remove_space(obj):\n",
    "    l = []\n",
    "    for i in obj:\n",
    "        l.append(i.replace(\" \", \"\"))\n",
    "    return l"
   ]
  },
  {
   "cell_type": "code",
   "execution_count": 35,
   "metadata": {},
   "outputs": [],
   "source": [
    "df['actors'] = df['actors'].apply(remove_space)\n",
    "df['overview'] = df['overview'].apply(lambda x : x.split())\n",
    "df['director'] = df['director'].apply(remove_space)\n",
    "df['tags'] = df['overview'] + df['genres'] + df['actors'] + df['director']\n",
    "df['tags'] = df['tags'].apply(lambda x : \" \".join(x))"
   ]
  },
  {
   "cell_type": "code",
   "execution_count": 36,
   "metadata": {},
   "outputs": [
    {
     "data": {
      "text/html": [
       "<div>\n",
       "<style scoped>\n",
       "    .dataframe tbody tr th:only-of-type {\n",
       "        vertical-align: middle;\n",
       "    }\n",
       "\n",
       "    .dataframe tbody tr th {\n",
       "        vertical-align: top;\n",
       "    }\n",
       "\n",
       "    .dataframe thead th {\n",
       "        text-align: right;\n",
       "    }\n",
       "</style>\n",
       "<table border=\"1\" class=\"dataframe\">\n",
       "  <thead>\n",
       "    <tr style=\"text-align: right;\">\n",
       "      <th></th>\n",
       "      <th>name</th>\n",
       "      <th>id</th>\n",
       "      <th>overview</th>\n",
       "      <th>genres</th>\n",
       "      <th>actors</th>\n",
       "      <th>director</th>\n",
       "      <th>tags</th>\n",
       "    </tr>\n",
       "  </thead>\n",
       "  <tbody>\n",
       "    <tr>\n",
       "      <th>0</th>\n",
       "      <td>Escape Room</td>\n",
       "      <td>522681</td>\n",
       "      <td>[Six, strangers, find, themselves, in, circums...</td>\n",
       "      <td>[Horror, Thriller, Mystery]</td>\n",
       "      <td>[TaylorRussell, LoganMiller, JayEllis, Deborah...</td>\n",
       "      <td>[AdamRobitel]</td>\n",
       "      <td>Six strangers find themselves in circumstances...</td>\n",
       "    </tr>\n",
       "    <tr>\n",
       "      <th>1</th>\n",
       "      <td>Rust Creek</td>\n",
       "      <td>561362</td>\n",
       "      <td>[When, an, overachieving, college, senior, mak...</td>\n",
       "      <td>[Thriller, Drama, Action, Crime]</td>\n",
       "      <td>[HermioneCorfield, JayPaulson, SeanO'Bryan, Mi...</td>\n",
       "      <td>[JenMcGowan]</td>\n",
       "      <td>When an overachieving college senior makes a w...</td>\n",
       "    </tr>\n",
       "    <tr>\n",
       "      <th>2</th>\n",
       "      <td>American Hangman</td>\n",
       "      <td>567738</td>\n",
       "      <td>[An, unidentified, man, posts, a, live, feed, ...</td>\n",
       "      <td>[Thriller]</td>\n",
       "      <td>[DonaldSutherland, VincentKartheiser, OliverDe...</td>\n",
       "      <td>[WilsonConeybeare]</td>\n",
       "      <td>An unidentified man posts a live feed on socia...</td>\n",
       "    </tr>\n",
       "    <tr>\n",
       "      <th>3</th>\n",
       "      <td>A Dog's Way Home</td>\n",
       "      <td>508763</td>\n",
       "      <td>[The, adventure, of, Bella,, a, dog, who, emba...</td>\n",
       "      <td>[Drama, Adventure, Family]</td>\n",
       "      <td>[AshleyJudd, JonahHauer-King, EdwardJamesOlmos...</td>\n",
       "      <td>[CharlesMartinSmith]</td>\n",
       "      <td>The adventure of Bella, a dog who embarks on a...</td>\n",
       "    </tr>\n",
       "    <tr>\n",
       "      <th>4</th>\n",
       "      <td>The Upside</td>\n",
       "      <td>440472</td>\n",
       "      <td>[Phillip, is, a, wealthy, quadriplegic, who, n...</td>\n",
       "      <td>[Comedy, Drama]</td>\n",
       "      <td>[KevinHart, BryanCranston, NicoleKidman, Golsh...</td>\n",
       "      <td>[NeilBurger]</td>\n",
       "      <td>Phillip is a wealthy quadriplegic who needs a ...</td>\n",
       "    </tr>\n",
       "  </tbody>\n",
       "</table>\n",
       "</div>"
      ],
      "text/plain": [
       "               name      id  \\\n",
       "0       Escape Room  522681   \n",
       "1        Rust Creek  561362   \n",
       "2  American Hangman  567738   \n",
       "3  A Dog's Way Home  508763   \n",
       "4        The Upside  440472   \n",
       "\n",
       "                                            overview  \\\n",
       "0  [Six, strangers, find, themselves, in, circums...   \n",
       "1  [When, an, overachieving, college, senior, mak...   \n",
       "2  [An, unidentified, man, posts, a, live, feed, ...   \n",
       "3  [The, adventure, of, Bella,, a, dog, who, emba...   \n",
       "4  [Phillip, is, a, wealthy, quadriplegic, who, n...   \n",
       "\n",
       "                             genres  \\\n",
       "0       [Horror, Thriller, Mystery]   \n",
       "1  [Thriller, Drama, Action, Crime]   \n",
       "2                        [Thriller]   \n",
       "3        [Drama, Adventure, Family]   \n",
       "4                   [Comedy, Drama]   \n",
       "\n",
       "                                              actors              director  \\\n",
       "0  [TaylorRussell, LoganMiller, JayEllis, Deborah...         [AdamRobitel]   \n",
       "1  [HermioneCorfield, JayPaulson, SeanO'Bryan, Mi...          [JenMcGowan]   \n",
       "2  [DonaldSutherland, VincentKartheiser, OliverDe...    [WilsonConeybeare]   \n",
       "3  [AshleyJudd, JonahHauer-King, EdwardJamesOlmos...  [CharlesMartinSmith]   \n",
       "4  [KevinHart, BryanCranston, NicoleKidman, Golsh...          [NeilBurger]   \n",
       "\n",
       "                                                tags  \n",
       "0  Six strangers find themselves in circumstances...  \n",
       "1  When an overachieving college senior makes a w...  \n",
       "2  An unidentified man posts a live feed on socia...  \n",
       "3  The adventure of Bella, a dog who embarks on a...  \n",
       "4  Phillip is a wealthy quadriplegic who needs a ...  "
      ]
     },
     "execution_count": 36,
     "metadata": {},
     "output_type": "execute_result"
    }
   ],
   "source": [
    "df.head()"
   ]
  },
  {
   "cell_type": "code",
   "execution_count": 37,
   "metadata": {},
   "outputs": [],
   "source": [
    "new_df = df[['id', 'name', 'tags']]"
   ]
  },
  {
   "cell_type": "code",
   "execution_count": 38,
   "metadata": {},
   "outputs": [],
   "source": [
    "df = new_df.rename(columns = {'id' : 'movie_id', 'name' : 'title'})"
   ]
  },
  {
   "cell_type": "code",
   "execution_count": 40,
   "metadata": {},
   "outputs": [],
   "source": [
    "df.to_csv('data_2019.csv', index = False)"
   ]
  }
 ],
 "metadata": {
  "kernelspec": {
   "display_name": "venv",
   "language": "python",
   "name": "python3"
  },
  "language_info": {
   "codemirror_mode": {
    "name": "ipython",
    "version": 3
   },
   "file_extension": ".py",
   "mimetype": "text/x-python",
   "name": "python",
   "nbconvert_exporter": "python",
   "pygments_lexer": "ipython3",
   "version": "3.10.5"
  }
 },
 "nbformat": 4,
 "nbformat_minor": 2
}
