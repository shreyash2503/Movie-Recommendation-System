{
 "cells": [
  {
   "cell_type": "code",
   "execution_count": 22,
   "id": "039aa7b5-d16b-49cd-a13c-d7318fd85028",
   "metadata": {},
   "outputs": [],
   "source": [
    "import pandas as pd\n",
    "import numpy as np\n",
    "from tmdbv3api import TMDb\n",
    "from tmdbv3api import Movie\n",
    "from dotenv import load_dotenv\n",
    "import os\n",
    "import requests\n",
    "from datetime import datetime"
   ]
  },
  {
   "cell_type": "code",
   "execution_count": 23,
   "id": "e666340a-4c45-4274-8c2c-611d3d1ea3a3",
   "metadata": {},
   "outputs": [
    {
     "data": {
      "text/plain": [
       "True"
      ]
     },
     "execution_count": 23,
     "metadata": {},
     "output_type": "execute_result"
    }
   ],
   "source": [
    "load_dotenv()"
   ]
  },
  {
   "cell_type": "code",
   "execution_count": 24,
   "id": "0e2f4a32-3956-433f-babf-f0a74274b242",
   "metadata": {},
   "outputs": [],
   "source": [
    "tmdb = TMDb()\n",
    "tmdb.api_key = os.getenv('API_KEY')\n",
    "tmdb.language = 'en'\n",
    "tmdb.debug = True"
   ]
  },
  {
   "cell_type": "code",
   "execution_count": 25,
   "id": "12af2239-ffbc-4519-af8e-31c3b63178ca",
   "metadata": {},
   "outputs": [],
   "source": [
    "movie = Movie()"
   ]
  },
  {
   "cell_type": "code",
   "execution_count": 26,
   "id": "e4d98ca5-e609-4633-8a3a-2732dd54f755",
   "metadata": {},
   "outputs": [],
   "source": [
    "data = pd.read_html('https://en.wikipedia.org/wiki/List_of_American_films_of_2023')"
   ]
  },
  {
   "cell_type": "code",
   "execution_count": 27,
   "id": "7519e551-1d0c-4840-85ae-7b1e9cec638b",
   "metadata": {},
   "outputs": [],
   "source": [
    "names = []"
   ]
  },
  {
   "cell_type": "code",
   "execution_count": 28,
   "id": "95a789f4-c9ef-42b2-a6dc-2fe06d5f3bdf",
   "metadata": {},
   "outputs": [],
   "source": [
    "for i in range(3, 7):\n",
    "    for i in data[i]['Title']:\n",
    "        names.append(i)"
   ]
  },
  {
   "cell_type": "code",
   "execution_count": 29,
   "id": "d8ed2917-5212-4cd1-ab3c-9ad21107dbc2",
   "metadata": {},
   "outputs": [
    {
     "data": {
      "text/plain": [
       "['M3GAN', 'The Old Way', 'The Devil Conspiracy', 'Plane']"
      ]
     },
     "execution_count": 29,
     "metadata": {},
     "output_type": "execute_result"
    }
   ],
   "source": [
    "names[ : 4]"
   ]
  },
  {
   "cell_type": "code",
   "execution_count": 30,
   "id": "b217bda0-787c-475d-823a-fb06f653154d",
   "metadata": {},
   "outputs": [],
   "source": [
    "movie_id = []\n",
    "movie_not_found = []"
   ]
  },
  {
   "cell_type": "code",
   "execution_count": 31,
   "id": "f714ebb8-33f0-4b44-84cf-c3f96899e22c",
   "metadata": {},
   "outputs": [
    {
     "name": "stdout",
     "output_type": "stream",
     "text": [
      "Does not exist\n",
      "Does not exist\n",
      "Does not exist\n",
      "Does not exist\n",
      "Does not exist\n",
      "Does not exist\n",
      "Does not exist\n"
     ]
    }
   ],
   "source": [
    "date_format = \"%Y-%m-%d\"\n",
    "start_date = datetime.strptime(\"2023-01-01\", date_format)\n",
    "end_date = datetime.strptime(\"2023-12-31\", date_format)\n",
    "for name in names:\n",
    "    search = movie.search(name)\n",
    "    for res in search:\n",
    "        if(type(res) == str):\n",
    "            print(\"Movie data does not exist\")\n",
    "            break\n",
    "        if(res['release_date']):\n",
    "            if (datetime.strptime(res['release_date'], date_format) >= start_date and datetime.strptime(res['release_date'], date_format) <= end_date):\n",
    "                movie_id.append((name, res['id']))\n",
    "                break      \n",
    "        else :\n",
    "            print(\"Does not exist\")\n",
    "    else :\n",
    "        # print(\"Removed \" + name + \" from the names list\")\n",
    "        movie_not_found.append(name)\n",
    "        # names.remove('name')"
   ]
  },
  {
   "cell_type": "code",
   "execution_count": 35,
   "id": "09c828ef-b9d2-4f47-b9cd-0f450c3d9979",
   "metadata": {},
   "outputs": [
    {
     "data": {
      "text/plain": [
       "[('The Old Way', 872954),\n",
       " ('The Devil Conspiracy', 296271),\n",
       " ('Plane', 646389),\n",
       " ('House Party', 632065)]"
      ]
     },
     "execution_count": 35,
     "metadata": {},
     "output_type": "execute_result"
    }
   ],
   "source": [
    "movie_id[ : 4]"
   ]
  },
  {
   "cell_type": "code",
   "execution_count": 36,
   "id": "f025122f-4a5a-4da6-b1b5-d989e8d1ee15",
   "metadata": {},
   "outputs": [],
   "source": [
    "details = []"
   ]
  },
  {
   "cell_type": "code",
   "execution_count": 37,
   "id": "a8e1def3-90b8-476a-b9eb-01f133fb7034",
   "metadata": {},
   "outputs": [],
   "source": [
    "def get_genres(obj):\n",
    "    genres = []\n",
    "\n",
    "    # print(type(obj))\n",
    "    for i in obj:\n",
    "        # print(i['name'])\n",
    "        genres.append(i['name'])\n",
    "    return genres"
   ]
  },
  {
   "cell_type": "code",
   "execution_count": 38,
   "id": "7df73ec5-9e78-443d-aa69-65bd3710b62b",
   "metadata": {},
   "outputs": [],
   "source": [
    "for i in movie_id:\n",
    "\n",
    "    url = f'https://api.themoviedb.org/3/movie/{i[1]}?api_key={os.getenv(\"API_KEY\")}'\n",
    "    response = requests.get(url)\n",
    "    data_json = response.json()\n",
    "    movie_details = {}\n",
    "    movie_details['name'] = data_json['title']\n",
    "    movie_details['id'] = i[1]\n",
    "    movie_details['overview'] = data_json['overview'] \n",
    "    movie_details['genres'] = get_genres(data_json['genres'])\n",
    "    details.append(movie_details)"
   ]
  },
  {
   "cell_type": "code",
   "execution_count": 39,
   "id": "7e63fcd5-09c8-43ee-89db-4f0a77c47f0b",
   "metadata": {},
   "outputs": [
    {
     "data": {
      "text/plain": [
       "[{'name': 'The Old Way',\n",
       "  'id': 872954,\n",
       "  'overview': 'An old gunslinger and his daughter must face the consequences of his past, when the son of a man he killed years ago arrives to take his revenge.',\n",
       "  'genres': ['Western']},\n",
       " {'name': 'The Devil Conspiracy',\n",
       "  'id': 296271,\n",
       "  'overview': 'A powerful biotech company has breakthrough technology allowing them to clone history’s most influential people with just a few fragments of DNA. Behind this company is a cabal of Satanists that steals the shroud of Christ, putting them in possession of Jesus’ DNA. The clone will serve as the ultimate offering to the devil. The Archangel Michael comes to earth and will stop at nothing to end the devil’s conspiracy.',\n",
       "  'genres': ['Horror', 'Fantasy', 'Science Fiction', 'Thriller']},\n",
       " {'name': 'Plane',\n",
       "  'id': 646389,\n",
       "  'overview': 'After a heroic job of successfully landing his storm-damaged aircraft in a war zone, a fearless pilot finds himself between the agendas of multiple militias planning to take the plane and its passengers hostage.',\n",
       "  'genres': ['Action', 'Adventure', 'Thriller']},\n",
       " {'name': 'House Party',\n",
       "  'id': 632065,\n",
       "  'overview': 'Aspiring club promoters and best buds Damon and Kevin are barely keeping things together. Out of money, down on their luck and about to lose the roofs over their heads—and freshly fired from their low-lift jobs as house cleaners—the pair needs a huge windfall to make their problems go away. In a ‘what the hell?’ move, they decide to host the party of the year at an exclusive mansion, the site of their last cleaning job, which just happens to belong to none other than LeBron James. No permission? No problem. What could go wrong?',\n",
       "  'genres': ['Comedy']}]"
      ]
     },
     "execution_count": 39,
     "metadata": {},
     "output_type": "execute_result"
    }
   ],
   "source": [
    "details[ : 4 ]"
   ]
  },
  {
   "cell_type": "code",
   "execution_count": 40,
   "id": "95a2a2f7-cd1d-4a7a-a07d-70cd7515c858",
   "metadata": {},
   "outputs": [],
   "source": [
    "df = pd.DataFrame(details)"
   ]
  },
  {
   "cell_type": "code",
   "execution_count": 41,
   "id": "bb974ce3-39c1-490f-9a83-97554808720d",
   "metadata": {},
   "outputs": [
    {
     "data": {
      "text/html": [
       "<div>\n",
       "<style scoped>\n",
       "    .dataframe tbody tr th:only-of-type {\n",
       "        vertical-align: middle;\n",
       "    }\n",
       "\n",
       "    .dataframe tbody tr th {\n",
       "        vertical-align: top;\n",
       "    }\n",
       "\n",
       "    .dataframe thead th {\n",
       "        text-align: right;\n",
       "    }\n",
       "</style>\n",
       "<table border=\"1\" class=\"dataframe\">\n",
       "  <thead>\n",
       "    <tr style=\"text-align: right;\">\n",
       "      <th></th>\n",
       "      <th>name</th>\n",
       "      <th>id</th>\n",
       "      <th>overview</th>\n",
       "      <th>genres</th>\n",
       "    </tr>\n",
       "  </thead>\n",
       "  <tbody>\n",
       "    <tr>\n",
       "      <th>0</th>\n",
       "      <td>The Old Way</td>\n",
       "      <td>872954</td>\n",
       "      <td>An old gunslinger and his daughter must face t...</td>\n",
       "      <td>[Western]</td>\n",
       "    </tr>\n",
       "    <tr>\n",
       "      <th>1</th>\n",
       "      <td>The Devil Conspiracy</td>\n",
       "      <td>296271</td>\n",
       "      <td>A powerful biotech company has breakthrough te...</td>\n",
       "      <td>[Horror, Fantasy, Science Fiction, Thriller]</td>\n",
       "    </tr>\n",
       "    <tr>\n",
       "      <th>2</th>\n",
       "      <td>Plane</td>\n",
       "      <td>646389</td>\n",
       "      <td>After a heroic job of successfully landing his...</td>\n",
       "      <td>[Action, Adventure, Thriller]</td>\n",
       "    </tr>\n",
       "    <tr>\n",
       "      <th>3</th>\n",
       "      <td>House Party</td>\n",
       "      <td>632065</td>\n",
       "      <td>Aspiring club promoters and best buds Damon an...</td>\n",
       "      <td>[Comedy]</td>\n",
       "    </tr>\n",
       "    <tr>\n",
       "      <th>4</th>\n",
       "      <td>Sick</td>\n",
       "      <td>1195746</td>\n",
       "      <td>We all know what it feels like when you're sic...</td>\n",
       "      <td>[]</td>\n",
       "    </tr>\n",
       "  </tbody>\n",
       "</table>\n",
       "</div>"
      ],
      "text/plain": [
       "                   name       id  \\\n",
       "0           The Old Way   872954   \n",
       "1  The Devil Conspiracy   296271   \n",
       "2                 Plane   646389   \n",
       "3           House Party   632065   \n",
       "4                  Sick  1195746   \n",
       "\n",
       "                                            overview  \\\n",
       "0  An old gunslinger and his daughter must face t...   \n",
       "1  A powerful biotech company has breakthrough te...   \n",
       "2  After a heroic job of successfully landing his...   \n",
       "3  Aspiring club promoters and best buds Damon an...   \n",
       "4  We all know what it feels like when you're sic...   \n",
       "\n",
       "                                         genres  \n",
       "0                                     [Western]  \n",
       "1  [Horror, Fantasy, Science Fiction, Thriller]  \n",
       "2                 [Action, Adventure, Thriller]  \n",
       "3                                      [Comedy]  \n",
       "4                                            []  "
      ]
     },
     "execution_count": 41,
     "metadata": {},
     "output_type": "execute_result"
    }
   ],
   "source": [
    "df.head()"
   ]
  },
  {
   "cell_type": "code",
   "execution_count": 42,
   "id": "37290485-ae33-4f35-a79b-c5068d373041",
   "metadata": {},
   "outputs": [],
   "source": [
    "def get_actors(id):\n",
    "    url  =  f'https://api.themoviedb.org/3/movie/{id}/credits?api_key={os.getenv(\"API_KEY\")}'\n",
    "    resonse = requests.get(url)\n",
    "    data_json = resonse.json()\n",
    "    obj = data_json['cast']\n",
    "    actors = []\n",
    "    length = 5 if len(obj) > 5 else len(obj)\n",
    "    for i in range(length):\n",
    "        actors.append(obj[i]['name'])\n",
    "    return actors"
   ]
  },
  {
   "cell_type": "code",
   "execution_count": 43,
   "id": "fbf31bb4-5751-4e2e-8842-ecf12285d6b2",
   "metadata": {},
   "outputs": [],
   "source": [
    "\n",
    "def get_directors(movie_id):\n",
    "    url = f'https://api.themoviedb.org/3/movie/{movie_id}/credits?api_key={os.getenv(\"API_KEY\")}'\n",
    "    response = requests.get(url)\n",
    "\n",
    "    if response.status_code == 200:\n",
    "        try:\n",
    "            data_json = response.json()\n",
    "            obj = data_json['crew']\n",
    "            directors = [i['name'] for i in obj if i['job'] == 'Director']\n",
    "            return directors\n",
    "        except Exception as e:\n",
    "            print(f\"Error: {e}\")\n",
    "            return []\n",
    "    else:\n",
    "        print(f\"Failed to fetch data. Status code: {response.status_code}\")\n",
    "        return []"
   ]
  },
  {
   "cell_type": "code",
   "execution_count": 45,
   "id": "168f3981-45da-4a7b-917d-980ab2688f94",
   "metadata": {},
   "outputs": [],
   "source": [
    "df['actors'] = df['id'].apply(get_actors)"
   ]
  },
  {
   "cell_type": "code",
   "execution_count": 48,
   "id": "baf38c1b-c881-40d6-9beb-f55eee8ac87d",
   "metadata": {},
   "outputs": [],
   "source": [
    "df['director'] = df['id'].apply(get_directors)"
   ]
  },
  {
   "cell_type": "code",
   "execution_count": 49,
   "id": "06059cc9-ef42-4b3d-8c19-b773a5b1480a",
   "metadata": {},
   "outputs": [
    {
     "data": {
      "text/html": [
       "<div>\n",
       "<style scoped>\n",
       "    .dataframe tbody tr th:only-of-type {\n",
       "        vertical-align: middle;\n",
       "    }\n",
       "\n",
       "    .dataframe tbody tr th {\n",
       "        vertical-align: top;\n",
       "    }\n",
       "\n",
       "    .dataframe thead th {\n",
       "        text-align: right;\n",
       "    }\n",
       "</style>\n",
       "<table border=\"1\" class=\"dataframe\">\n",
       "  <thead>\n",
       "    <tr style=\"text-align: right;\">\n",
       "      <th></th>\n",
       "      <th>name</th>\n",
       "      <th>id</th>\n",
       "      <th>overview</th>\n",
       "      <th>genres</th>\n",
       "      <th>actors</th>\n",
       "      <th>director</th>\n",
       "    </tr>\n",
       "  </thead>\n",
       "  <tbody>\n",
       "    <tr>\n",
       "      <th>0</th>\n",
       "      <td>The Old Way</td>\n",
       "      <td>872954</td>\n",
       "      <td>An old gunslinger and his daughter must face t...</td>\n",
       "      <td>[Western]</td>\n",
       "      <td>[Nicolas Cage, Ryan Kiera Armstrong, Noah Le G...</td>\n",
       "      <td>[Brett Donowho]</td>\n",
       "    </tr>\n",
       "    <tr>\n",
       "      <th>1</th>\n",
       "      <td>The Devil Conspiracy</td>\n",
       "      <td>296271</td>\n",
       "      <td>A powerful biotech company has breakthrough te...</td>\n",
       "      <td>[Horror, Fantasy, Science Fiction, Thriller]</td>\n",
       "      <td>[Alice Orr-Ewing, Joe Doyle, Eveline Hall, Pet...</td>\n",
       "      <td>[Nathan Frankowski]</td>\n",
       "    </tr>\n",
       "    <tr>\n",
       "      <th>2</th>\n",
       "      <td>Plane</td>\n",
       "      <td>646389</td>\n",
       "      <td>After a heroic job of successfully landing his...</td>\n",
       "      <td>[Action, Adventure, Thriller]</td>\n",
       "      <td>[Gerard Butler, Mike Colter, Tony Goldwyn, Yos...</td>\n",
       "      <td>[Jean-François Richet]</td>\n",
       "    </tr>\n",
       "    <tr>\n",
       "      <th>3</th>\n",
       "      <td>House Party</td>\n",
       "      <td>632065</td>\n",
       "      <td>Aspiring club promoters and best buds Damon an...</td>\n",
       "      <td>[Comedy]</td>\n",
       "      <td>[Jacob Latimore, Tosin Cole, Karen Obilom, D.C...</td>\n",
       "      <td>[Calmatic]</td>\n",
       "    </tr>\n",
       "    <tr>\n",
       "      <th>4</th>\n",
       "      <td>Sick</td>\n",
       "      <td>1195746</td>\n",
       "      <td>We all know what it feels like when you're sic...</td>\n",
       "      <td>[]</td>\n",
       "      <td>[Aidan Mason, Joshua Uy]</td>\n",
       "      <td>[Aidan Mason]</td>\n",
       "    </tr>\n",
       "  </tbody>\n",
       "</table>\n",
       "</div>"
      ],
      "text/plain": [
       "                   name       id  \\\n",
       "0           The Old Way   872954   \n",
       "1  The Devil Conspiracy   296271   \n",
       "2                 Plane   646389   \n",
       "3           House Party   632065   \n",
       "4                  Sick  1195746   \n",
       "\n",
       "                                            overview  \\\n",
       "0  An old gunslinger and his daughter must face t...   \n",
       "1  A powerful biotech company has breakthrough te...   \n",
       "2  After a heroic job of successfully landing his...   \n",
       "3  Aspiring club promoters and best buds Damon an...   \n",
       "4  We all know what it feels like when you're sic...   \n",
       "\n",
       "                                         genres  \\\n",
       "0                                     [Western]   \n",
       "1  [Horror, Fantasy, Science Fiction, Thriller]   \n",
       "2                 [Action, Adventure, Thriller]   \n",
       "3                                      [Comedy]   \n",
       "4                                            []   \n",
       "\n",
       "                                              actors                director  \n",
       "0  [Nicolas Cage, Ryan Kiera Armstrong, Noah Le G...         [Brett Donowho]  \n",
       "1  [Alice Orr-Ewing, Joe Doyle, Eveline Hall, Pet...     [Nathan Frankowski]  \n",
       "2  [Gerard Butler, Mike Colter, Tony Goldwyn, Yos...  [Jean-François Richet]  \n",
       "3  [Jacob Latimore, Tosin Cole, Karen Obilom, D.C...              [Calmatic]  \n",
       "4                           [Aidan Mason, Joshua Uy]           [Aidan Mason]  "
      ]
     },
     "execution_count": 49,
     "metadata": {},
     "output_type": "execute_result"
    }
   ],
   "source": [
    "df.head()"
   ]
  },
  {
   "cell_type": "code",
   "execution_count": 50,
   "id": "a8b74e9e-5741-40c3-958d-73d63aa29c5d",
   "metadata": {},
   "outputs": [],
   "source": [
    "def remove_space(obj):\n",
    "    l = []\n",
    "    for i in obj:\n",
    "        l.append(i.replace(\" \", \"\"))\n",
    "    return l"
   ]
  },
  {
   "cell_type": "code",
   "execution_count": 51,
   "id": "5247f29b-fddb-41da-964b-5baac784d792",
   "metadata": {},
   "outputs": [],
   "source": [
    "df['actors'] = df['actors'].apply(remove_space)\n",
    "df['overview'] = df['overview'].apply(lambda x : x.split())\n",
    "df['director'] = df['director'].apply(remove_space)\n",
    "df['tags'] = df['overview'] + df['genres'] + df['actors'] + df['director']\n",
    "df['tags'] = df['tags'].apply(lambda x : \" \".join(x))"
   ]
  },
  {
   "cell_type": "code",
   "execution_count": 52,
   "id": "4bcd8e15-1f40-444e-81bb-a153c500cf8f",
   "metadata": {},
   "outputs": [
    {
     "data": {
      "text/html": [
       "<div>\n",
       "<style scoped>\n",
       "    .dataframe tbody tr th:only-of-type {\n",
       "        vertical-align: middle;\n",
       "    }\n",
       "\n",
       "    .dataframe tbody tr th {\n",
       "        vertical-align: top;\n",
       "    }\n",
       "\n",
       "    .dataframe thead th {\n",
       "        text-align: right;\n",
       "    }\n",
       "</style>\n",
       "<table border=\"1\" class=\"dataframe\">\n",
       "  <thead>\n",
       "    <tr style=\"text-align: right;\">\n",
       "      <th></th>\n",
       "      <th>name</th>\n",
       "      <th>id</th>\n",
       "      <th>overview</th>\n",
       "      <th>genres</th>\n",
       "      <th>actors</th>\n",
       "      <th>director</th>\n",
       "      <th>tags</th>\n",
       "    </tr>\n",
       "  </thead>\n",
       "  <tbody>\n",
       "    <tr>\n",
       "      <th>0</th>\n",
       "      <td>The Old Way</td>\n",
       "      <td>872954</td>\n",
       "      <td>[An, old, gunslinger, and, his, daughter, must...</td>\n",
       "      <td>[Western]</td>\n",
       "      <td>[NicolasCage, RyanKieraArmstrong, NoahLeGros, ...</td>\n",
       "      <td>[BrettDonowho]</td>\n",
       "      <td>An old gunslinger and his daughter must face t...</td>\n",
       "    </tr>\n",
       "    <tr>\n",
       "      <th>1</th>\n",
       "      <td>The Devil Conspiracy</td>\n",
       "      <td>296271</td>\n",
       "      <td>[A, powerful, biotech, company, has, breakthro...</td>\n",
       "      <td>[Horror, Fantasy, Science Fiction, Thriller]</td>\n",
       "      <td>[AliceOrr-Ewing, JoeDoyle, EvelineHall, PeterM...</td>\n",
       "      <td>[NathanFrankowski]</td>\n",
       "      <td>A powerful biotech company has breakthrough te...</td>\n",
       "    </tr>\n",
       "    <tr>\n",
       "      <th>2</th>\n",
       "      <td>Plane</td>\n",
       "      <td>646389</td>\n",
       "      <td>[After, a, heroic, job, of, successfully, land...</td>\n",
       "      <td>[Action, Adventure, Thriller]</td>\n",
       "      <td>[GerardButler, MikeColter, TonyGoldwyn, YosonA...</td>\n",
       "      <td>[Jean-FrançoisRichet]</td>\n",
       "      <td>After a heroic job of successfully landing his...</td>\n",
       "    </tr>\n",
       "    <tr>\n",
       "      <th>3</th>\n",
       "      <td>House Party</td>\n",
       "      <td>632065</td>\n",
       "      <td>[Aspiring, club, promoters, and, best, buds, D...</td>\n",
       "      <td>[Comedy]</td>\n",
       "      <td>[JacobLatimore, TosinCole, KarenObilom, D.C.Yo...</td>\n",
       "      <td>[Calmatic]</td>\n",
       "      <td>Aspiring club promoters and best buds Damon an...</td>\n",
       "    </tr>\n",
       "    <tr>\n",
       "      <th>4</th>\n",
       "      <td>Sick</td>\n",
       "      <td>1195746</td>\n",
       "      <td>[We, all, know, what, it, feels, like, when, y...</td>\n",
       "      <td>[]</td>\n",
       "      <td>[AidanMason, JoshuaUy]</td>\n",
       "      <td>[AidanMason]</td>\n",
       "      <td>We all know what it feels like when you're sic...</td>\n",
       "    </tr>\n",
       "  </tbody>\n",
       "</table>\n",
       "</div>"
      ],
      "text/plain": [
       "                   name       id  \\\n",
       "0           The Old Way   872954   \n",
       "1  The Devil Conspiracy   296271   \n",
       "2                 Plane   646389   \n",
       "3           House Party   632065   \n",
       "4                  Sick  1195746   \n",
       "\n",
       "                                            overview  \\\n",
       "0  [An, old, gunslinger, and, his, daughter, must...   \n",
       "1  [A, powerful, biotech, company, has, breakthro...   \n",
       "2  [After, a, heroic, job, of, successfully, land...   \n",
       "3  [Aspiring, club, promoters, and, best, buds, D...   \n",
       "4  [We, all, know, what, it, feels, like, when, y...   \n",
       "\n",
       "                                         genres  \\\n",
       "0                                     [Western]   \n",
       "1  [Horror, Fantasy, Science Fiction, Thriller]   \n",
       "2                 [Action, Adventure, Thriller]   \n",
       "3                                      [Comedy]   \n",
       "4                                            []   \n",
       "\n",
       "                                              actors               director  \\\n",
       "0  [NicolasCage, RyanKieraArmstrong, NoahLeGros, ...         [BrettDonowho]   \n",
       "1  [AliceOrr-Ewing, JoeDoyle, EvelineHall, PeterM...     [NathanFrankowski]   \n",
       "2  [GerardButler, MikeColter, TonyGoldwyn, YosonA...  [Jean-FrançoisRichet]   \n",
       "3  [JacobLatimore, TosinCole, KarenObilom, D.C.Yo...             [Calmatic]   \n",
       "4                             [AidanMason, JoshuaUy]           [AidanMason]   \n",
       "\n",
       "                                                tags  \n",
       "0  An old gunslinger and his daughter must face t...  \n",
       "1  A powerful biotech company has breakthrough te...  \n",
       "2  After a heroic job of successfully landing his...  \n",
       "3  Aspiring club promoters and best buds Damon an...  \n",
       "4  We all know what it feels like when you're sic...  "
      ]
     },
     "execution_count": 52,
     "metadata": {},
     "output_type": "execute_result"
    }
   ],
   "source": [
    "df.head()"
   ]
  },
  {
   "cell_type": "code",
   "execution_count": 54,
   "id": "77da76f0-8973-437c-8bcc-d2846a03ec74",
   "metadata": {},
   "outputs": [],
   "source": [
    "new_df = df[['id', 'name', 'tags']]"
   ]
  },
  {
   "cell_type": "code",
   "execution_count": 55,
   "id": "e03bd886-71c4-435e-a533-83a7338495ac",
   "metadata": {},
   "outputs": [
    {
     "data": {
      "text/html": [
       "<div>\n",
       "<style scoped>\n",
       "    .dataframe tbody tr th:only-of-type {\n",
       "        vertical-align: middle;\n",
       "    }\n",
       "\n",
       "    .dataframe tbody tr th {\n",
       "        vertical-align: top;\n",
       "    }\n",
       "\n",
       "    .dataframe thead th {\n",
       "        text-align: right;\n",
       "    }\n",
       "</style>\n",
       "<table border=\"1\" class=\"dataframe\">\n",
       "  <thead>\n",
       "    <tr style=\"text-align: right;\">\n",
       "      <th></th>\n",
       "      <th>id</th>\n",
       "      <th>name</th>\n",
       "      <th>tags</th>\n",
       "    </tr>\n",
       "  </thead>\n",
       "  <tbody>\n",
       "    <tr>\n",
       "      <th>0</th>\n",
       "      <td>872954</td>\n",
       "      <td>The Old Way</td>\n",
       "      <td>An old gunslinger and his daughter must face t...</td>\n",
       "    </tr>\n",
       "    <tr>\n",
       "      <th>1</th>\n",
       "      <td>296271</td>\n",
       "      <td>The Devil Conspiracy</td>\n",
       "      <td>A powerful biotech company has breakthrough te...</td>\n",
       "    </tr>\n",
       "    <tr>\n",
       "      <th>2</th>\n",
       "      <td>646389</td>\n",
       "      <td>Plane</td>\n",
       "      <td>After a heroic job of successfully landing his...</td>\n",
       "    </tr>\n",
       "    <tr>\n",
       "      <th>3</th>\n",
       "      <td>632065</td>\n",
       "      <td>House Party</td>\n",
       "      <td>Aspiring club promoters and best buds Damon an...</td>\n",
       "    </tr>\n",
       "    <tr>\n",
       "      <th>4</th>\n",
       "      <td>1195746</td>\n",
       "      <td>Sick</td>\n",
       "      <td>We all know what it feels like when you're sic...</td>\n",
       "    </tr>\n",
       "  </tbody>\n",
       "</table>\n",
       "</div>"
      ],
      "text/plain": [
       "        id                  name  \\\n",
       "0   872954           The Old Way   \n",
       "1   296271  The Devil Conspiracy   \n",
       "2   646389                 Plane   \n",
       "3   632065           House Party   \n",
       "4  1195746                  Sick   \n",
       "\n",
       "                                                tags  \n",
       "0  An old gunslinger and his daughter must face t...  \n",
       "1  A powerful biotech company has breakthrough te...  \n",
       "2  After a heroic job of successfully landing his...  \n",
       "3  Aspiring club promoters and best buds Damon an...  \n",
       "4  We all know what it feels like when you're sic...  "
      ]
     },
     "execution_count": 55,
     "metadata": {},
     "output_type": "execute_result"
    }
   ],
   "source": [
    "new_df.head()"
   ]
  },
  {
   "cell_type": "code",
   "execution_count": null,
   "id": "f21d3785-1e5d-462a-b5b3-180a81b364c6",
   "metadata": {},
   "outputs": [],
   "source": []
  }
 ],
 "metadata": {
  "kernelspec": {
   "display_name": "venv",
   "language": "python",
   "name": "venv"
  },
  "language_info": {
   "codemirror_mode": {
    "name": "ipython",
    "version": 3
   },
   "file_extension": ".py",
   "mimetype": "text/x-python",
   "name": "python",
   "nbconvert_exporter": "python",
   "pygments_lexer": "ipython3",
   "version": "3.10.5"
  }
 },
 "nbformat": 4,
 "nbformat_minor": 5
}
