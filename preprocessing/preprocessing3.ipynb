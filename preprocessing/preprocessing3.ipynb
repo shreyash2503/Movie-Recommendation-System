{
 "cells": [
  {
   "cell_type": "code",
   "execution_count": 1,
   "metadata": {},
   "outputs": [],
   "source": [
    "import pandas as pd\n",
    "import numpy as np\n",
    "from tmdbv3api import TMDb\n",
    "from tmdbv3api import Movie\n",
    "from dotenv import load_dotenv\n",
    "import os\n",
    "import requests\n",
    "from datetime import datetime"
   ]
  },
  {
   "cell_type": "code",
   "execution_count": 2,
   "metadata": {},
   "outputs": [
    {
     "data": {
      "text/plain": [
       "True"
      ]
     },
     "execution_count": 2,
     "metadata": {},
     "output_type": "execute_result"
    }
   ],
   "source": [
    "load_dotenv()"
   ]
  },
  {
   "cell_type": "code",
   "execution_count": 3,
   "metadata": {},
   "outputs": [],
   "source": [
    "tmdb = TMDb()\n",
    "tmdb.api_key = os.getenv('API_KEY')\n",
    "tmdb.language = 'en'\n",
    "tmdb.debug = True"
   ]
  },
  {
   "cell_type": "code",
   "execution_count": 4,
   "metadata": {},
   "outputs": [],
   "source": [
    "movie = Movie()"
   ]
  },
  {
   "cell_type": "code",
   "execution_count": 5,
   "metadata": {},
   "outputs": [],
   "source": [
    "data = pd.read_html('https://en.wikipedia.org/wiki/List_of_American_films_of_2020')"
   ]
  },
  {
   "cell_type": "code",
   "execution_count": 8,
   "metadata": {},
   "outputs": [],
   "source": [
    "names = []"
   ]
  },
  {
   "cell_type": "markdown",
   "metadata": {},
   "source": [
    "### Extracting the names of the movies released in 2020"
   ]
  },
  {
   "cell_type": "code",
   "execution_count": 9,
   "metadata": {},
   "outputs": [],
   "source": [
    "for i in range(2, 6):\n",
    "    for i in data[i]['Title']:\n",
    "        names.append(i)"
   ]
  },
  {
   "cell_type": "code",
   "execution_count": 11,
   "metadata": {},
   "outputs": [],
   "source": [
    "movie_id = []\n",
    "movie_not_found = []"
   ]
  },
  {
   "cell_type": "markdown",
   "metadata": {},
   "source": [
    "- The TMDB API returns all the movies with the word \"name\" in it from our names list, we only want from 2020"
   ]
  },
  {
   "cell_type": "code",
   "execution_count": 15,
   "metadata": {
    "scrolled": true
   },
   "outputs": [
    {
     "name": "stdout",
     "output_type": "stream",
     "text": [
      "page\n",
      "Does not exist\n",
      "page\n",
      "Does not exist\n"
     ]
    }
   ],
   "source": [
    "date_format = \"%Y-%m-%d\"\n",
    "start_date = datetime.strptime(\"2020-01-01\", date_format)\n",
    "end_date = datetime.strptime(\"2020-12-31\", date_format)\n",
    "for name in names:\n",
    "    search = movie.search(name)\n",
    "    for res in search:\n",
    "        if(type(res) == str):\n",
    "            print(\"Movie data does not exist\")\n",
    "            break\n",
    "        if(res['release_date']):\n",
    "            if (datetime.strptime(res['release_date'], date_format) >= start_date and datetime.strptime(res['release_date'], date_format) <= end_date):\n",
    "                movie_id.append((name, res['id']))\n",
    "                break      \n",
    "        else :\n",
    "            print(\"Does not exist\")\n",
    "    else :\n",
    "        # print(\"Removed \" + name + \" from the names list\")\n",
    "        movie_not_found.append(name)\n",
    "        # names.remove('name')\n",
    "\n",
    "   "
   ]
  },
  {
   "cell_type": "code",
   "execution_count": 18,
   "metadata": {},
   "outputs": [],
   "source": [
    "details = []"
   ]
  },
  {
   "cell_type": "code",
   "execution_count": 19,
   "metadata": {},
   "outputs": [],
   "source": [
    "def get_genres(obj):\n",
    "    genres = []\n",
    "\n",
    "    # print(type(obj))\n",
    "    for i in obj:\n",
    "        # print(i['name'])\n",
    "        genres.append(i['name'])\n",
    "    return genres"
   ]
  },
  {
   "cell_type": "markdown",
   "metadata": {},
   "source": [
    "### Extracting the essential details from the API response and storing them in a list for converting it to a DataFrame"
   ]
  },
  {
   "cell_type": "code",
   "execution_count": 20,
   "metadata": {},
   "outputs": [],
   "source": [
    "for i in movie_id:\n",
    "\n",
    "    url = f'https://api.themoviedb.org/3/movie/{i[1]}?api_key={os.getenv(\"API_KEY\")}'\n",
    "    response = requests.get(url)\n",
    "    data_json = response.json()\n",
    "    movie_details = {}\n",
    "    movie_details['name'] = data_json['title']\n",
    "    movie_details['id'] = i[1]\n",
    "    movie_details['overview'] = data_json['overview'] \n",
    "    movie_details['genres'] = get_genres(data_json['genres'])\n",
    "    details.append(movie_details)"
   ]
  },
  {
   "cell_type": "code",
   "execution_count": 22,
   "metadata": {},
   "outputs": [],
   "source": [
    "df = pd.DataFrame(details)"
   ]
  },
  {
   "cell_type": "code",
   "execution_count": 23,
   "metadata": {},
   "outputs": [
    {
     "data": {
      "text/html": [
       "<div>\n",
       "<style scoped>\n",
       "    .dataframe tbody tr th:only-of-type {\n",
       "        vertical-align: middle;\n",
       "    }\n",
       "\n",
       "    .dataframe tbody tr th {\n",
       "        vertical-align: top;\n",
       "    }\n",
       "\n",
       "    .dataframe thead th {\n",
       "        text-align: right;\n",
       "    }\n",
       "</style>\n",
       "<table border=\"1\" class=\"dataframe\">\n",
       "  <thead>\n",
       "    <tr style=\"text-align: right;\">\n",
       "      <th></th>\n",
       "      <th>name</th>\n",
       "      <th>id</th>\n",
       "      <th>overview</th>\n",
       "      <th>genres</th>\n",
       "    </tr>\n",
       "  </thead>\n",
       "  <tbody>\n",
       "    <tr>\n",
       "      <th>0</th>\n",
       "      <td>Underwater</td>\n",
       "      <td>443791</td>\n",
       "      <td>After an earthquake destroys their underwater ...</td>\n",
       "      <td>[Horror, Science Fiction, Action, Adventure]</td>\n",
       "    </tr>\n",
       "    <tr>\n",
       "      <th>1</th>\n",
       "      <td>Like a Boss</td>\n",
       "      <td>526019</td>\n",
       "      <td>Two female friends with very different ideals ...</td>\n",
       "      <td>[Comedy]</td>\n",
       "    </tr>\n",
       "    <tr>\n",
       "      <th>2</th>\n",
       "      <td>The Murder of Nicole Brown Simpson</td>\n",
       "      <td>527534</td>\n",
       "      <td>In 1994 Nicole Brown Simpson and her friend Ro...</td>\n",
       "      <td>[Thriller, Drama, Crime]</td>\n",
       "    </tr>\n",
       "    <tr>\n",
       "      <th>3</th>\n",
       "      <td>Angels Fallen</td>\n",
       "      <td>662844</td>\n",
       "      <td>After the tragic loss of his wife battling the...</td>\n",
       "      <td>[Horror, Fantasy, Action]</td>\n",
       "    </tr>\n",
       "    <tr>\n",
       "      <th>4</th>\n",
       "      <td>Bad Boys for Life</td>\n",
       "      <td>38700</td>\n",
       "      <td>Marcus and Mike are forced to confront new thr...</td>\n",
       "      <td>[Thriller, Action, Crime]</td>\n",
       "    </tr>\n",
       "  </tbody>\n",
       "</table>\n",
       "</div>"
      ],
      "text/plain": [
       "                                 name      id  \\\n",
       "0                          Underwater  443791   \n",
       "1                         Like a Boss  526019   \n",
       "2  The Murder of Nicole Brown Simpson  527534   \n",
       "3                       Angels Fallen  662844   \n",
       "4                   Bad Boys for Life   38700   \n",
       "\n",
       "                                            overview  \\\n",
       "0  After an earthquake destroys their underwater ...   \n",
       "1  Two female friends with very different ideals ...   \n",
       "2  In 1994 Nicole Brown Simpson and her friend Ro...   \n",
       "3  After the tragic loss of his wife battling the...   \n",
       "4  Marcus and Mike are forced to confront new thr...   \n",
       "\n",
       "                                         genres  \n",
       "0  [Horror, Science Fiction, Action, Adventure]  \n",
       "1                                      [Comedy]  \n",
       "2                      [Thriller, Drama, Crime]  \n",
       "3                     [Horror, Fantasy, Action]  \n",
       "4                     [Thriller, Action, Crime]  "
      ]
     },
     "execution_count": 23,
     "metadata": {},
     "output_type": "execute_result"
    }
   ],
   "source": [
    "df.head()"
   ]
  },
  {
   "cell_type": "code",
   "execution_count": 24,
   "metadata": {},
   "outputs": [],
   "source": [
    "def get_actors(id):\n",
    "    url  =  f'https://api.themoviedb.org/3/movie/{id}/credits?api_key={os.getenv(\"API_KEY\")}'\n",
    "    resonse = requests.get(url)\n",
    "    data_json = resonse.json()\n",
    "    obj = data_json['cast']\n",
    "    actors = []\n",
    "    length = 5 if len(obj) > 5 else len(obj)\n",
    "    for i in range(length):\n",
    "        actors.append(obj[i]['name'])\n",
    "    return actors"
   ]
  },
  {
   "cell_type": "code",
   "execution_count": 31,
   "metadata": {},
   "outputs": [],
   "source": [
    "\n",
    "def get_directors(movie_id):\n",
    "    url = f'https://api.themoviedb.org/3/movie/{movie_id}/credits?api_key={os.getenv(\"API_KEY\")}'\n",
    "    response = requests.get(url)\n",
    "\n",
    "    if response.status_code == 200:\n",
    "        try:\n",
    "            data_json = response.json()\n",
    "            obj = data_json['crew']\n",
    "            directors = [i['name'] for i in obj if i['job'] == 'Director']\n",
    "            return directors\n",
    "        except Exception as e:\n",
    "            print(f\"Error: {e}\")\n",
    "            return []\n",
    "    else:\n",
    "        print(f\"Failed to fetch data. Status code: {response.status_code}\")\n",
    "        return []\n"
   ]
  },
  {
   "cell_type": "code",
   "execution_count": 27,
   "metadata": {},
   "outputs": [],
   "source": [
    "df['actors'] = df['id'].apply(get_actors)"
   ]
  },
  {
   "cell_type": "code",
   "execution_count": 28,
   "metadata": {},
   "outputs": [
    {
     "data": {
      "text/html": [
       "<div>\n",
       "<style scoped>\n",
       "    .dataframe tbody tr th:only-of-type {\n",
       "        vertical-align: middle;\n",
       "    }\n",
       "\n",
       "    .dataframe tbody tr th {\n",
       "        vertical-align: top;\n",
       "    }\n",
       "\n",
       "    .dataframe thead th {\n",
       "        text-align: right;\n",
       "    }\n",
       "</style>\n",
       "<table border=\"1\" class=\"dataframe\">\n",
       "  <thead>\n",
       "    <tr style=\"text-align: right;\">\n",
       "      <th></th>\n",
       "      <th>name</th>\n",
       "      <th>id</th>\n",
       "      <th>overview</th>\n",
       "      <th>genres</th>\n",
       "      <th>actors</th>\n",
       "    </tr>\n",
       "  </thead>\n",
       "  <tbody>\n",
       "    <tr>\n",
       "      <th>0</th>\n",
       "      <td>Underwater</td>\n",
       "      <td>443791</td>\n",
       "      <td>After an earthquake destroys their underwater ...</td>\n",
       "      <td>[Horror, Science Fiction, Action, Adventure]</td>\n",
       "      <td>[Kristen Stewart, Vincent Cassel, Mamoudou Ath...</td>\n",
       "    </tr>\n",
       "    <tr>\n",
       "      <th>1</th>\n",
       "      <td>Like a Boss</td>\n",
       "      <td>526019</td>\n",
       "      <td>Two female friends with very different ideals ...</td>\n",
       "      <td>[Comedy]</td>\n",
       "      <td>[Tiffany Haddish, Rose Byrne, Salma Hayek Pina...</td>\n",
       "    </tr>\n",
       "    <tr>\n",
       "      <th>2</th>\n",
       "      <td>The Murder of Nicole Brown Simpson</td>\n",
       "      <td>527534</td>\n",
       "      <td>In 1994 Nicole Brown Simpson and her friend Ro...</td>\n",
       "      <td>[Thriller, Drama, Crime]</td>\n",
       "      <td>[Mena Suvari, Nick Stahl, Taryn Manning, Agnes...</td>\n",
       "    </tr>\n",
       "    <tr>\n",
       "      <th>3</th>\n",
       "      <td>Angels Fallen</td>\n",
       "      <td>662844</td>\n",
       "      <td>After the tragic loss of his wife battling the...</td>\n",
       "      <td>[Horror, Fantasy, Action]</td>\n",
       "      <td>[Houston Rhines, Michael Teh, Nicola Posener, ...</td>\n",
       "    </tr>\n",
       "    <tr>\n",
       "      <th>4</th>\n",
       "      <td>Bad Boys for Life</td>\n",
       "      <td>38700</td>\n",
       "      <td>Marcus and Mike are forced to confront new thr...</td>\n",
       "      <td>[Thriller, Action, Crime]</td>\n",
       "      <td>[Will Smith, Martin Lawrence, Paola Nuñez, Van...</td>\n",
       "    </tr>\n",
       "  </tbody>\n",
       "</table>\n",
       "</div>"
      ],
      "text/plain": [
       "                                 name      id  \\\n",
       "0                          Underwater  443791   \n",
       "1                         Like a Boss  526019   \n",
       "2  The Murder of Nicole Brown Simpson  527534   \n",
       "3                       Angels Fallen  662844   \n",
       "4                   Bad Boys for Life   38700   \n",
       "\n",
       "                                            overview  \\\n",
       "0  After an earthquake destroys their underwater ...   \n",
       "1  Two female friends with very different ideals ...   \n",
       "2  In 1994 Nicole Brown Simpson and her friend Ro...   \n",
       "3  After the tragic loss of his wife battling the...   \n",
       "4  Marcus and Mike are forced to confront new thr...   \n",
       "\n",
       "                                         genres  \\\n",
       "0  [Horror, Science Fiction, Action, Adventure]   \n",
       "1                                      [Comedy]   \n",
       "2                      [Thriller, Drama, Crime]   \n",
       "3                     [Horror, Fantasy, Action]   \n",
       "4                     [Thriller, Action, Crime]   \n",
       "\n",
       "                                              actors  \n",
       "0  [Kristen Stewart, Vincent Cassel, Mamoudou Ath...  \n",
       "1  [Tiffany Haddish, Rose Byrne, Salma Hayek Pina...  \n",
       "2  [Mena Suvari, Nick Stahl, Taryn Manning, Agnes...  \n",
       "3  [Houston Rhines, Michael Teh, Nicola Posener, ...  \n",
       "4  [Will Smith, Martin Lawrence, Paola Nuñez, Van...  "
      ]
     },
     "execution_count": 28,
     "metadata": {},
     "output_type": "execute_result"
    }
   ],
   "source": [
    "df.head()"
   ]
  },
  {
   "cell_type": "code",
   "execution_count": 32,
   "metadata": {},
   "outputs": [],
   "source": [
    "df['director'] = df['id'].apply(get_directors)"
   ]
  },
  {
   "cell_type": "code",
   "execution_count": 36,
   "metadata": {},
   "outputs": [],
   "source": [
    "def remove_space(obj):\n",
    "    l = []\n",
    "    for i in obj:\n",
    "        l.append(i.replace(\" \", \"\"))\n",
    "    return l"
   ]
  },
  {
   "cell_type": "markdown",
   "metadata": {},
   "source": [
    "#### Creating a unique token for every token \"Robert Downey Jr\" -> \"RobertDowneyJr\""
   ]
  },
  {
   "cell_type": "code",
   "execution_count": 37,
   "metadata": {},
   "outputs": [],
   "source": [
    "df['actors'] = df['actors'].apply(remove_space)\n",
    "df['overview'] = df['overview'].apply(lambda x : x.split())\n",
    "df['director'] = df['director'].apply(remove_space)\n",
    "df['tags'] = df['overview'] + df['genres'] + df['actors'] + df['director']\n",
    "df['tags'] = df['tags'].apply(lambda x : \" \".join(x))"
   ]
  },
  {
   "cell_type": "code",
   "execution_count": 38,
   "metadata": {},
   "outputs": [
    {
     "data": {
      "text/html": [
       "<div>\n",
       "<style scoped>\n",
       "    .dataframe tbody tr th:only-of-type {\n",
       "        vertical-align: middle;\n",
       "    }\n",
       "\n",
       "    .dataframe tbody tr th {\n",
       "        vertical-align: top;\n",
       "    }\n",
       "\n",
       "    .dataframe thead th {\n",
       "        text-align: right;\n",
       "    }\n",
       "</style>\n",
       "<table border=\"1\" class=\"dataframe\">\n",
       "  <thead>\n",
       "    <tr style=\"text-align: right;\">\n",
       "      <th></th>\n",
       "      <th>name</th>\n",
       "      <th>id</th>\n",
       "      <th>overview</th>\n",
       "      <th>genres</th>\n",
       "      <th>actors</th>\n",
       "      <th>director</th>\n",
       "      <th>tags</th>\n",
       "    </tr>\n",
       "  </thead>\n",
       "  <tbody>\n",
       "    <tr>\n",
       "      <th>0</th>\n",
       "      <td>Underwater</td>\n",
       "      <td>443791</td>\n",
       "      <td>[After, an, earthquake, destroys, their, under...</td>\n",
       "      <td>[Horror, Science Fiction, Action, Adventure]</td>\n",
       "      <td>[KristenStewart, VincentCassel, MamoudouAthie,...</td>\n",
       "      <td>[WilliamEubank]</td>\n",
       "      <td>After an earthquake destroys their underwater ...</td>\n",
       "    </tr>\n",
       "    <tr>\n",
       "      <th>1</th>\n",
       "      <td>Like a Boss</td>\n",
       "      <td>526019</td>\n",
       "      <td>[Two, female, friends, with, very, different, ...</td>\n",
       "      <td>[Comedy]</td>\n",
       "      <td>[TiffanyHaddish, RoseByrne, SalmaHayekPinault,...</td>\n",
       "      <td>[MiguelArteta]</td>\n",
       "      <td>Two female friends with very different ideals ...</td>\n",
       "    </tr>\n",
       "    <tr>\n",
       "      <th>2</th>\n",
       "      <td>The Murder of Nicole Brown Simpson</td>\n",
       "      <td>527534</td>\n",
       "      <td>[In, 1994, Nicole, Brown, Simpson, and, her, f...</td>\n",
       "      <td>[Thriller, Drama, Crime]</td>\n",
       "      <td>[MenaSuvari, NickStahl, TarynManning, AgnesBru...</td>\n",
       "      <td>[DanielFarrands]</td>\n",
       "      <td>In 1994 Nicole Brown Simpson and her friend Ro...</td>\n",
       "    </tr>\n",
       "    <tr>\n",
       "      <th>3</th>\n",
       "      <td>Angels Fallen</td>\n",
       "      <td>662844</td>\n",
       "      <td>[After, the, tragic, loss, of, his, wife, batt...</td>\n",
       "      <td>[Horror, Fantasy, Action]</td>\n",
       "      <td>[HoustonRhines, MichaelTeh, NicolaPosener, LiJ...</td>\n",
       "      <td>[AliZamani]</td>\n",
       "      <td>After the tragic loss of his wife battling the...</td>\n",
       "    </tr>\n",
       "    <tr>\n",
       "      <th>4</th>\n",
       "      <td>Bad Boys for Life</td>\n",
       "      <td>38700</td>\n",
       "      <td>[Marcus, and, Mike, are, forced, to, confront,...</td>\n",
       "      <td>[Thriller, Action, Crime]</td>\n",
       "      <td>[WillSmith, MartinLawrence, PaolaNuñez, Vaness...</td>\n",
       "      <td>[AdilElArbi, BilallFallah]</td>\n",
       "      <td>Marcus and Mike are forced to confront new thr...</td>\n",
       "    </tr>\n",
       "  </tbody>\n",
       "</table>\n",
       "</div>"
      ],
      "text/plain": [
       "                                 name      id  \\\n",
       "0                          Underwater  443791   \n",
       "1                         Like a Boss  526019   \n",
       "2  The Murder of Nicole Brown Simpson  527534   \n",
       "3                       Angels Fallen  662844   \n",
       "4                   Bad Boys for Life   38700   \n",
       "\n",
       "                                            overview  \\\n",
       "0  [After, an, earthquake, destroys, their, under...   \n",
       "1  [Two, female, friends, with, very, different, ...   \n",
       "2  [In, 1994, Nicole, Brown, Simpson, and, her, f...   \n",
       "3  [After, the, tragic, loss, of, his, wife, batt...   \n",
       "4  [Marcus, and, Mike, are, forced, to, confront,...   \n",
       "\n",
       "                                         genres  \\\n",
       "0  [Horror, Science Fiction, Action, Adventure]   \n",
       "1                                      [Comedy]   \n",
       "2                      [Thriller, Drama, Crime]   \n",
       "3                     [Horror, Fantasy, Action]   \n",
       "4                     [Thriller, Action, Crime]   \n",
       "\n",
       "                                              actors  \\\n",
       "0  [KristenStewart, VincentCassel, MamoudouAthie,...   \n",
       "1  [TiffanyHaddish, RoseByrne, SalmaHayekPinault,...   \n",
       "2  [MenaSuvari, NickStahl, TarynManning, AgnesBru...   \n",
       "3  [HoustonRhines, MichaelTeh, NicolaPosener, LiJ...   \n",
       "4  [WillSmith, MartinLawrence, PaolaNuñez, Vaness...   \n",
       "\n",
       "                     director  \\\n",
       "0             [WilliamEubank]   \n",
       "1              [MiguelArteta]   \n",
       "2            [DanielFarrands]   \n",
       "3                 [AliZamani]   \n",
       "4  [AdilElArbi, BilallFallah]   \n",
       "\n",
       "                                                tags  \n",
       "0  After an earthquake destroys their underwater ...  \n",
       "1  Two female friends with very different ideals ...  \n",
       "2  In 1994 Nicole Brown Simpson and her friend Ro...  \n",
       "3  After the tragic loss of his wife battling the...  \n",
       "4  Marcus and Mike are forced to confront new thr...  "
      ]
     },
     "execution_count": 38,
     "metadata": {},
     "output_type": "execute_result"
    }
   ],
   "source": [
    "df.head()"
   ]
  },
  {
   "cell_type": "code",
   "execution_count": 40,
   "metadata": {},
   "outputs": [],
   "source": [
    "new_df = df[['id', 'name', 'tags']]"
   ]
  },
  {
   "cell_type": "code",
   "execution_count": 41,
   "metadata": {},
   "outputs": [
    {
     "data": {
      "text/html": [
       "<div>\n",
       "<style scoped>\n",
       "    .dataframe tbody tr th:only-of-type {\n",
       "        vertical-align: middle;\n",
       "    }\n",
       "\n",
       "    .dataframe tbody tr th {\n",
       "        vertical-align: top;\n",
       "    }\n",
       "\n",
       "    .dataframe thead th {\n",
       "        text-align: right;\n",
       "    }\n",
       "</style>\n",
       "<table border=\"1\" class=\"dataframe\">\n",
       "  <thead>\n",
       "    <tr style=\"text-align: right;\">\n",
       "      <th></th>\n",
       "      <th>id</th>\n",
       "      <th>name</th>\n",
       "      <th>tags</th>\n",
       "    </tr>\n",
       "  </thead>\n",
       "  <tbody>\n",
       "    <tr>\n",
       "      <th>0</th>\n",
       "      <td>443791</td>\n",
       "      <td>Underwater</td>\n",
       "      <td>After an earthquake destroys their underwater ...</td>\n",
       "    </tr>\n",
       "    <tr>\n",
       "      <th>1</th>\n",
       "      <td>526019</td>\n",
       "      <td>Like a Boss</td>\n",
       "      <td>Two female friends with very different ideals ...</td>\n",
       "    </tr>\n",
       "    <tr>\n",
       "      <th>2</th>\n",
       "      <td>527534</td>\n",
       "      <td>The Murder of Nicole Brown Simpson</td>\n",
       "      <td>In 1994 Nicole Brown Simpson and her friend Ro...</td>\n",
       "    </tr>\n",
       "    <tr>\n",
       "      <th>3</th>\n",
       "      <td>662844</td>\n",
       "      <td>Angels Fallen</td>\n",
       "      <td>After the tragic loss of his wife battling the...</td>\n",
       "    </tr>\n",
       "    <tr>\n",
       "      <th>4</th>\n",
       "      <td>38700</td>\n",
       "      <td>Bad Boys for Life</td>\n",
       "      <td>Marcus and Mike are forced to confront new thr...</td>\n",
       "    </tr>\n",
       "    <tr>\n",
       "      <th>...</th>\n",
       "      <td>...</td>\n",
       "      <td>...</td>\n",
       "      <td>...</td>\n",
       "    </tr>\n",
       "    <tr>\n",
       "      <th>349</th>\n",
       "      <td>615677</td>\n",
       "      <td>We Can Be Heroes</td>\n",
       "      <td>When alien invaders capture Earth's superheroe...</td>\n",
       "    </tr>\n",
       "    <tr>\n",
       "      <th>350</th>\n",
       "      <td>581032</td>\n",
       "      <td>News of the World</td>\n",
       "      <td>A Texan traveling across the wild West bringin...</td>\n",
       "    </tr>\n",
       "    <tr>\n",
       "      <th>351</th>\n",
       "      <td>661914</td>\n",
       "      <td>One Night in Miami...</td>\n",
       "      <td>In the aftermath of Cassius Clay's defeat of S...</td>\n",
       "    </tr>\n",
       "    <tr>\n",
       "      <th>352</th>\n",
       "      <td>582014</td>\n",
       "      <td>Promising Young Woman</td>\n",
       "      <td>A young woman, traumatized by a tragic event i...</td>\n",
       "    </tr>\n",
       "    <tr>\n",
       "      <th>353</th>\n",
       "      <td>641662</td>\n",
       "      <td>Pieces of a Woman</td>\n",
       "      <td>When a young mother's home birth ends in unfat...</td>\n",
       "    </tr>\n",
       "  </tbody>\n",
       "</table>\n",
       "<p>354 rows × 3 columns</p>\n",
       "</div>"
      ],
      "text/plain": [
       "         id                                name  \\\n",
       "0    443791                          Underwater   \n",
       "1    526019                         Like a Boss   \n",
       "2    527534  The Murder of Nicole Brown Simpson   \n",
       "3    662844                       Angels Fallen   \n",
       "4     38700                   Bad Boys for Life   \n",
       "..      ...                                 ...   \n",
       "349  615677                    We Can Be Heroes   \n",
       "350  581032                   News of the World   \n",
       "351  661914               One Night in Miami...   \n",
       "352  582014               Promising Young Woman   \n",
       "353  641662                   Pieces of a Woman   \n",
       "\n",
       "                                                  tags  \n",
       "0    After an earthquake destroys their underwater ...  \n",
       "1    Two female friends with very different ideals ...  \n",
       "2    In 1994 Nicole Brown Simpson and her friend Ro...  \n",
       "3    After the tragic loss of his wife battling the...  \n",
       "4    Marcus and Mike are forced to confront new thr...  \n",
       "..                                                 ...  \n",
       "349  When alien invaders capture Earth's superheroe...  \n",
       "350  A Texan traveling across the wild West bringin...  \n",
       "351  In the aftermath of Cassius Clay's defeat of S...  \n",
       "352  A young woman, traumatized by a tragic event i...  \n",
       "353  When a young mother's home birth ends in unfat...  \n",
       "\n",
       "[354 rows x 3 columns]"
      ]
     },
     "execution_count": 41,
     "metadata": {},
     "output_type": "execute_result"
    }
   ],
   "source": [
    "new_df"
   ]
  },
  {
   "cell_type": "code",
   "execution_count": 42,
   "metadata": {},
   "outputs": [],
   "source": [
    "df = new_df.rename(columns = {'id' : 'movie_id', 'name' : 'title'})"
   ]
  },
  {
   "cell_type": "code",
   "execution_count": 43,
   "metadata": {},
   "outputs": [
    {
     "data": {
      "text/html": [
       "<div>\n",
       "<style scoped>\n",
       "    .dataframe tbody tr th:only-of-type {\n",
       "        vertical-align: middle;\n",
       "    }\n",
       "\n",
       "    .dataframe tbody tr th {\n",
       "        vertical-align: top;\n",
       "    }\n",
       "\n",
       "    .dataframe thead th {\n",
       "        text-align: right;\n",
       "    }\n",
       "</style>\n",
       "<table border=\"1\" class=\"dataframe\">\n",
       "  <thead>\n",
       "    <tr style=\"text-align: right;\">\n",
       "      <th></th>\n",
       "      <th>movie_id</th>\n",
       "      <th>title</th>\n",
       "      <th>tags</th>\n",
       "    </tr>\n",
       "  </thead>\n",
       "  <tbody>\n",
       "    <tr>\n",
       "      <th>0</th>\n",
       "      <td>443791</td>\n",
       "      <td>Underwater</td>\n",
       "      <td>After an earthquake destroys their underwater ...</td>\n",
       "    </tr>\n",
       "    <tr>\n",
       "      <th>1</th>\n",
       "      <td>526019</td>\n",
       "      <td>Like a Boss</td>\n",
       "      <td>Two female friends with very different ideals ...</td>\n",
       "    </tr>\n",
       "    <tr>\n",
       "      <th>2</th>\n",
       "      <td>527534</td>\n",
       "      <td>The Murder of Nicole Brown Simpson</td>\n",
       "      <td>In 1994 Nicole Brown Simpson and her friend Ro...</td>\n",
       "    </tr>\n",
       "    <tr>\n",
       "      <th>3</th>\n",
       "      <td>662844</td>\n",
       "      <td>Angels Fallen</td>\n",
       "      <td>After the tragic loss of his wife battling the...</td>\n",
       "    </tr>\n",
       "    <tr>\n",
       "      <th>4</th>\n",
       "      <td>38700</td>\n",
       "      <td>Bad Boys for Life</td>\n",
       "      <td>Marcus and Mike are forced to confront new thr...</td>\n",
       "    </tr>\n",
       "  </tbody>\n",
       "</table>\n",
       "</div>"
      ],
      "text/plain": [
       "   movie_id                               title  \\\n",
       "0    443791                          Underwater   \n",
       "1    526019                         Like a Boss   \n",
       "2    527534  The Murder of Nicole Brown Simpson   \n",
       "3    662844                       Angels Fallen   \n",
       "4     38700                   Bad Boys for Life   \n",
       "\n",
       "                                                tags  \n",
       "0  After an earthquake destroys their underwater ...  \n",
       "1  Two female friends with very different ideals ...  \n",
       "2  In 1994 Nicole Brown Simpson and her friend Ro...  \n",
       "3  After the tragic loss of his wife battling the...  \n",
       "4  Marcus and Mike are forced to confront new thr...  "
      ]
     },
     "execution_count": 43,
     "metadata": {},
     "output_type": "execute_result"
    }
   ],
   "source": [
    "df.head()"
   ]
  },
  {
   "cell_type": "code",
   "execution_count": 44,
   "metadata": {},
   "outputs": [],
   "source": [
    "df.to_csv('data_2020.csv', index = False)"
   ]
  }
 ],
 "metadata": {
  "kernelspec": {
   "display_name": "Python 3 (ipykernel)",
   "language": "python",
   "name": "python3"
  },
  "language_info": {
   "codemirror_mode": {
    "name": "ipython",
    "version": 3
   },
   "file_extension": ".py",
   "mimetype": "text/x-python",
   "name": "python",
   "nbconvert_exporter": "python",
   "pygments_lexer": "ipython3",
   "version": "3.10.5"
  }
 },
 "nbformat": 4,
 "nbformat_minor": 4
}
